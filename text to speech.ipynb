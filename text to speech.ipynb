{
 "cells": [
  {
   "cell_type": "code",
   "execution_count": 1,
   "id": "eb5d3441-6112-4417-9439-2d1a26729663",
   "metadata": {},
   "outputs": [],
   "source": [
    "import tkinter as tk\n",
    "from tkinter import *\n",
    "from tkinter import filedialog\n",
    "from tkinter.ttk import Combobox\n",
    "import pyttsx3\n",
    "import os\n",
    "from gtts import gTTS\n",
    "from playsound import playsound"
   ]
  },
  {
   "cell_type": "code",
   "execution_count": 2,
   "id": "12d3f1c5-bf80-4092-963a-5e7a9e27e11f",
   "metadata": {},
   "outputs": [],
   "source": [
    "root = Tk()\n",
    "root.title(\"Text to Speech\")\n",
    "root.geometry('1000x580+200+80')\n",
    "root.resizable(False, False)\n",
    "root.configure(bg='Cornsilk')"
   ]
  },
  {
   "cell_type": "code",
   "execution_count": 3,
   "id": "22185c57-5815-4dc7-a9fa-2e6ff0edf798",
   "metadata": {},
   "outputs": [],
   "source": [
    "tts  =pyttsx3.init()\n",
    "def speaknow():\n",
    "    text = text_box.get(1.0, END)\n",
    "    gender = gender_box.get()\n",
    "    speed = speed_box.get()\n",
    "    voices = tts.getProperty('voices')\n",
    "\n",
    "    def setvoice():\n",
    "        if(gender == 'Male'):\n",
    "            tts.setProperty('voice', voices[0].id)\n",
    "            tts.say(text)\n",
    "            tts.runAndWait()\n",
    "        else:\n",
    "            tts.setProperty('voice', voices[1].id)\n",
    "            tts.say(text)\n",
    "            tts.runAndWait()\n",
    "\n",
    "    if(text):\n",
    "        if(speed == 'Fast'):\n",
    "            tts.setProperty('rate', 250)\n",
    "            setvoice()\n",
    "        elif(speed == 'Medium'):\n",
    "            tts.setProperty('rate', 150)\n",
    "            setvoice()\n",
    "        else:\n",
    "            tts.setProperty('rate', 60)\n",
    "            setvoice()"
   ]
  },
  {
   "cell_type": "code",
   "execution_count": 4,
   "id": "bdcea2b0-e958-4a72-8294-611ea87326f2",
   "metadata": {
    "scrolled": true
   },
   "outputs": [],
   "source": [
    "logo_image = PhotoImage(file = \"logo.png\")\n",
    "root.iconphoto(False, logo_image)\n",
    "# root.mainloop()"
   ]
  },
  {
   "cell_type": "code",
   "execution_count": 5,
   "id": "d6982367-de9a-4efa-9406-307cc583b4f0",
   "metadata": {},
   "outputs": [],
   "source": [
    "upper_frame = Frame(root, bg = \"deepskyblue\", width = 1200, height = 170)\n",
    "upper_frame.place(x = 0, y= 0)\n",
    "\n",
    "picture = PhotoImage(file = \"logo.png\")\n",
    "Label(upper_frame, image = picture, bg = 'deepskyblue').place(x = 100, y = 1)\n",
    "#root.mainloop()"
   ]
  },
  {
   "cell_type": "code",
   "execution_count": 6,
   "id": "8188fd85-9ee9-4869-95a4-84da08d1f089",
   "metadata": {},
   "outputs": [],
   "source": [
    "Label(upper_frame, text = \"Text-to-Speech Converter\", font = \"TimesNewroman 40 bold\", bg = \"Deepskyblue\", fg = \"white\").place(x = 300, y = 40)\n",
    "#root.mainloop()"
   ]
  },
  {
   "cell_type": "code",
   "execution_count": 7,
   "id": "82adc40b-c460-4f2f-8eb4-ab14b6df3c28",
   "metadata": {},
   "outputs": [],
   "source": [
    "text_box = Text(root, font = 'Calibri 20', bg = 'White', relief = GROOVE, wrap = WORD, bd = 0)\n",
    "text_box.place(x = 30, y = 170, width = 940, height = 180)\n",
    "#root.mainloop()"
   ]
  },
  {
   "cell_type": "code",
   "execution_count": 8,
   "id": "cb250ca5-8520-48d7-b444-ff45a976ce4d",
   "metadata": {},
   "outputs": [],
   "source": [
    "gender_box = Combobox(root, values = ['Male', 'Female'], font = \"Arial 12\", state = 'r', width = 12)\n",
    "gender_box.place(x= 340, y = 400)\n",
    "gender_box.set('Male')\n",
    "#root.mainloop()"
   ]
  },
  {
   "cell_type": "code",
   "execution_count": 9,
   "id": "51092df3-8402-4b8f-a5cd-8c3fb90e48b0",
   "metadata": {},
   "outputs": [],
   "source": [
    "speed_box = Combobox(root, values = ['Fast', 'Medium', 'Slow'], font = \"robote 12\", state = 'r', width = 12)\n",
    "speed_box.place(x= 540, y = 400)\n",
    "speed_box.set('Medium')\n",
    "#root.mainloop()"
   ]
  },
  {
   "cell_type": "code",
   "execution_count": 10,
   "id": "ecdc840e-1694-4517-8908-a53a0f6adead",
   "metadata": {},
   "outputs": [],
   "source": [
    "Label(root, text = \"Select Voice\", font = \"TimesNewRoman 15 bold\", bg = 'Cornsilk', fg = 'black').place(x = 340, y = 370)\n",
    "Label(root, text = \"Select Speed\", font = \"TimesNewRoman 15 bold\", bg = 'Cornsilk', fg = 'black').place(x = 540, y = 370)\n",
    "#root.mainloop()"
   ]
  },
  {
   "cell_type": "code",
   "execution_count": 11,
   "id": "9067a1e3-3f26-4884-8f3a-c990a13e1503",
   "metadata": {},
   "outputs": [],
   "source": [
    "play_button = PhotoImage(\"C:\\\\Users\\\\dybsb\\\\Desktop\\\\play.png\")\n",
    "play_btn = Button(root, text = \"Play\", compound = LEFT, image = play_button, bg = 'White', width = 130, font = \"arial 14 bold\", borderwidth = \"0.1c\", command = speaknow)\n",
    "play_btn.place(x = 435, y = 450)\n",
    "root.mainloop()"
   ]
  },
  {
   "cell_type": "code",
   "execution_count": null,
   "id": "772b74d7-c163-447a-8a7b-3e36343272ef",
   "metadata": {},
   "outputs": [],
   "source": []
  },
  {
   "cell_type": "code",
   "execution_count": null,
   "id": "e062541a-0147-4998-becb-bdd16bb43dd3",
   "metadata": {},
   "outputs": [],
   "source": []
  },
  {
   "cell_type": "code",
   "execution_count": null,
   "id": "2b7d5351-8e20-433e-ad2f-fe6d45adc51d",
   "metadata": {},
   "outputs": [],
   "source": []
  }
 ],
 "metadata": {
  "kernelspec": {
   "display_name": "Python 3 (ipykernel)",
   "language": "python",
   "name": "python3"
  },
  "language_info": {
   "codemirror_mode": {
    "name": "ipython",
    "version": 3
   },
   "file_extension": ".py",
   "mimetype": "text/x-python",
   "name": "python",
   "nbconvert_exporter": "python",
   "pygments_lexer": "ipython3",
   "version": "3.11.7"
  }
 },
 "nbformat": 4,
 "nbformat_minor": 5
}
